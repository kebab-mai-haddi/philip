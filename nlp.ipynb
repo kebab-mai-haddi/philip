{
 "cells": [
  {
   "cell_type": "code",
   "execution_count": 1,
   "metadata": {},
   "outputs": [],
   "source": [
    "text = ['The belt from WiseWear is just one example of health and fitness wearables presented at the Digital Health Summit ',\n",
    "'Fitness technology and wearables are racing forward with advances in sensor technology, smart fabrics, cloud computing, flexible membranes',\n",
    "'Make life easier with LG\\'s range of wearables, this includes Android Wear watches, fitness trackers & other wearable technology.',\n",
    "'Owned fitness wearables in the Netherlands 2016, by type Published by Statista Research Department, Jan 14, 2016 ',\n",
    "'Can’t decide between the many smart watches and other fitness wearables on the market?',\n",
    "'Fitness tracking and fun go hand-in-hand with these wearables made specially for little movers and shakers.',\n",
    "'InVite Health carries select fitness trackers and wearables to monitor your physical fitness activity including heart rate and distance.',\n",
    "'Plenty of people with mobility issues want to buy fitness-based wearables, myself included. ',\n",
    "'Learn how to wrap your arms around the basics of performance testing for wearables, smartwatches, and fitness trackers on the Neotys blog.',\n",
    "'Wearable fitness devices are all the rage these days, and Microsoft has been making deals to ensure its place in the market.',\n",
    "'Fitness and Wellness Applications Fitness and wellness wearables help individuals monitor movement, diet, and sleep .',\n",
    "'Sasken delivers smart devices and wearable solution for health and fitness industry. ',\n",
    "'iTouch Wearables line of affordable smartwatches and affordable fitness trackers includes bluetooth',\n",
    "'Motivation and User Engagement in Fitness Tracking: Heuristics for Mobile Healthcare Wearables.',\n",
    "'Compare Fitness Trackers, Fitness Bands and Fitness Watches using our Wearables Comparison Tool to choose a device that best suits your needs and budget.',\n",
    "'All wore three fitness wearables — a Fitbit Flex, Jawbone UP24, and Nike Fuelband. Two phones — an iPhone 5S and Galaxy S4',\n",
    "'One of the hottest on-the-rise fitness trends over the past two years has been the dramatic increase in the use of “fitness wearables.”',\n",
    "'In other words, the VivoWatch is a fitness wearable first, and a smartphone companion second. ',\n",
    "'This trend can be attributed to wearables like fitness bands, which encourage users to track their weight or exercises daily.',\n",
    "'Our wearables channel covers personal health & fitness wearable systems, wearable computers, VR headsets, and connected sporting equipment.']"
   ]
  },
  {
   "cell_type": "code",
   "execution_count": 2,
   "metadata": {},
   "outputs": [],
   "source": [
    "import nltk\n",
    "from nltk.corpus import stopwords\n",
    "from rake_nltk import Rake\n",
    "import pandas as pd\n",
    "import numpy as np\n",
    "from tidytextpy import get_sentiments\n",
    "\n",
    "stp = stopwords.words('english')+['!',',','.','?','-s','-ly','</s>','s','’']\n",
    "\n",
    "r = Rake(min_length=1, max_length=1)\n",
    "\n",
    "df_1 = get_sentiments('afinn')\n",
    "df_2 = get_sentiments('nrc')\n",
    "df_3 = get_sentiments('bing')\n",
    "\n",
    "sen_afinn = []\n",
    "sen_nrc = []\n",
    "sen_bing = []\n",
    "theme = []\n",
    "\n",
    "for i in text:\n",
    "    word_list = nltk.word_tokenize(i)    \n",
    "    filtered_words = [word for word in word_list if word not in stp]\n",
    "    sen_1 = df_1[df_1['word'].isin(filtered_words)]\n",
    "    try:\n",
    "        sen_afinn.append(sen_1['value'].value_counts().sort_values().index[-1])\n",
    "    except:\n",
    "        sen_afinn.append('')\n",
    "    sen_2 = df_2[df_2['word'].isin(filtered_words)]\n",
    "    try:\n",
    "        sen_nrc.append(sen_2['sentiment'].value_counts().sort_values().index[-1])\n",
    "    except:\n",
    "        sen_nrc.append('')\n",
    "    sen_3 = df_3[df_3['word'].isin(filtered_words)]\n",
    "    try:\n",
    "        sen_bing.append(sen_3['sentiment'].value_counts().sort_values().index[-1])\n",
    "    except:\n",
    "        sen_bing.append('')\n",
    "\n",
    "    r.extract_keywords_from_text(i)\n",
    "    try:\n",
    "        theme.append(r.get_ranked_phrases()[0])\n",
    "    except:\n",
    "        theme.append('')\n",
    "    \n",
    "df_all = pd.DataFrame({'text':text,'sen_afinn':sen_afinn,'sen_nrc':sen_nrc,'sen_bing':sen_bing,'theme':theme })    \n"
   ]
  },
  {
   "cell_type": "code",
   "execution_count": 3,
   "metadata": {},
   "outputs": [],
   "source": [
    "import pandas as pd\n",
    "df_all.to_csv('data.csv')"
   ]
  },
  {
   "cell_type": "code",
   "execution_count": null,
   "metadata": {},
   "outputs": [],
   "source": []
  }
 ],
 "metadata": {
  "kernelspec": {
   "display_name": "Python 3",
   "language": "python",
   "name": "python3"
  },
  "language_info": {
   "codemirror_mode": {
    "name": "ipython",
    "version": 3
   },
   "file_extension": ".py",
   "mimetype": "text/x-python",
   "name": "python",
   "nbconvert_exporter": "python",
   "pygments_lexer": "ipython3",
   "version": "3.8.5"
  }
 },
 "nbformat": 4,
 "nbformat_minor": 2
}
